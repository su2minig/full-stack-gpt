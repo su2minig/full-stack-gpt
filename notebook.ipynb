{
 "cells": [
  {
   "cell_type": "code",
   "execution_count": 1,
   "metadata": {},
   "outputs": [],
   "source": [
    "from langchain.chat_models import ChatOpenAI\n",
    "from langchain.prompts import PromptTemplate, ChatPromptTemplate\n",
    "from langchain.callbacks import StreamlitCallbackHandler\n",
    "\n"
   ]
  },
  {
   "cell_type": "code",
   "execution_count": 3,
   "metadata": {},
   "outputs": [
    {
     "ename": "TypeError",
     "evalue": "Can't instantiate abstract class MakeOutPutParser with abstract method parse",
     "output_type": "error",
     "traceback": [
      "\u001b[1;31m---------------------------------------------------------------------------\u001b[0m",
      "\u001b[1;31mTypeError\u001b[0m                                 Traceback (most recent call last)",
      "Cell \u001b[1;32mIn[3], line 8\u001b[0m\n\u001b[0;32m      1\u001b[0m chat_model \u001b[38;5;241m=\u001b[39m ChatOpenAI(model\u001b[38;5;241m=\u001b[39m\u001b[38;5;124m\"\u001b[39m\u001b[38;5;124mgpt-3.5-turbo\u001b[39m\u001b[38;5;124m\"\u001b[39m)\n\u001b[0;32m      3\u001b[0m make_haiku \u001b[38;5;241m=\u001b[39m ChatPromptTemplate\u001b[38;5;241m.\u001b[39mfrom_messages([\n\u001b[0;32m      4\u001b[0m     (\u001b[38;5;124m\"\u001b[39m\u001b[38;5;124msystem\u001b[39m\u001b[38;5;124m\"\u001b[39m, \u001b[38;5;124m\"\u001b[39m\u001b[38;5;124mYou are a poet specializing in writing haikus about programming languages. Create a haiku that captures the essence of the given programming language.\u001b[39m\u001b[38;5;124m\"\u001b[39m),\n\u001b[0;32m      5\u001b[0m     (\u001b[38;5;124m\"\u001b[39m\u001b[38;5;124mhuman\u001b[39m\u001b[38;5;124m\"\u001b[39m, \u001b[38;5;124m\"\u001b[39m\u001b[38;5;132;01m{language_name}\u001b[39;00m\u001b[38;5;124m\"\u001b[39m)\n\u001b[0;32m      6\u001b[0m ])\n\u001b[1;32m----> 8\u001b[0m make_chain \u001b[38;5;241m=\u001b[39m make_haiku \u001b[38;5;241m|\u001b[39m chat_model \u001b[38;5;241m|\u001b[39m \u001b[43mMakeOutPutParser\u001b[49m\u001b[43m(\u001b[49m\u001b[43m)\u001b[49m\n\u001b[0;32m     10\u001b[0m explain_haiku \u001b[38;5;241m=\u001b[39m ChatPromptTemplate\u001b[38;5;241m.\u001b[39mfrom_messages([\n\u001b[0;32m     11\u001b[0m     (\u001b[38;5;124m\"\u001b[39m\u001b[38;5;124msystem\u001b[39m\u001b[38;5;124m\"\u001b[39m, \u001b[38;5;124m\"\u001b[39m\u001b[38;5;124mYou specialize in interpreting and explaining haikus. Explain the meaning and the poetic elements of the given haiku.Please answer with the content of the haiku you received and an explanation.\u001b[39m\u001b[38;5;124m\"\u001b[39m),\n\u001b[0;32m     12\u001b[0m     (\u001b[38;5;124m\"\u001b[39m\u001b[38;5;124mhuman\u001b[39m\u001b[38;5;124m\"\u001b[39m, \u001b[38;5;124m\"\u001b[39m\u001b[38;5;132;01m{haiku}\u001b[39;00m\u001b[38;5;124m\"\u001b[39m)\n\u001b[0;32m     13\u001b[0m ])\n\u001b[0;32m     15\u001b[0m explain_chain \u001b[38;5;241m=\u001b[39m explain_haiku \u001b[38;5;241m|\u001b[39m chat_model \u001b[38;5;241m|\u001b[39m MakeOutPutParser()\n",
      "\u001b[1;31mTypeError\u001b[0m: Can't instantiate abstract class MakeOutPutParser with abstract method parse"
     ]
    }
   ],
   "source": [
    "chat_model = ChatOpenAI(model=\"gpt-3.5-turbo\")\n",
    "\n",
    "make_haiku = ChatPromptTemplate.from_messages([\n",
    "    (\"system\", \"You are a poet specializing in writing haikus about programming languages. Create a haiku that captures the essence of the given programming language.\"),\n",
    "    (\"human\", \"{language_name}\")\n",
    "])\n",
    "\n",
    "make_chain = make_haiku | chat_model\n",
    "\n",
    "explain_haiku = ChatPromptTemplate.from_messages([\n",
    "    (\"system\", \"You specialize in interpreting and explaining haikus. Explain the meaning and the poetic elements of the given haiku.Please answer with the content of the haiku you received and an explanation.\"),\n",
    "    (\"human\", \"{haiku}\")\n",
    "])\n",
    "\n",
    "explain_chain = explain_haiku | chat_model\n",
    "\n",
    "result_chain = {\"haiku\": make_chain} | explain_chain\n",
    "\n",
    "def invoke_chain(language_name):\n",
    "  haiku = make_chain.invoke({\"language_name\": language_name})\n",
    "  explain = explain_chain.invoke({\"haiku\": haiku})\n",
    "  return f\"haiku: {haiku}, explanation: {explain}\"\n",
    "\n",
    "result = invoke_chain(\"Python\")\n",
    "\n",
    "print(result)"
   ]
  }
 ],
 "metadata": {
  "kernelspec": {
   "display_name": ".venv",
   "language": "python",
   "name": "python3"
  },
  "language_info": {
   "codemirror_mode": {
    "name": "ipython",
    "version": 3
   },
   "file_extension": ".py",
   "mimetype": "text/x-python",
   "name": "python",
   "nbconvert_exporter": "python",
   "pygments_lexer": "ipython3",
   "version": "3.11.6"
  }
 },
 "nbformat": 4,
 "nbformat_minor": 2
}
