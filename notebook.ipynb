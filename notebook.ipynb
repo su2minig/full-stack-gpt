{
 "cells": [
  {
   "cell_type": "code",
   "execution_count": null,
   "metadata": {},
   "outputs": [],
   "source": [
    "from langchain.memory import ConversationBufferMemory\n",
    "\n",
    "memory = ConversationBufferMemory()\n",
    "\n",
    "memory.save_context({\"input\": \"HI!\"}, {\"output\": \"How are you?\"})\n",
    "\n",
    "memory.load_memory_variables({})"
   ]
  },
  {
   "cell_type": "code",
   "execution_count": 3,
   "metadata": {},
   "outputs": [],
   "source": [
    "from langchain.memory import ConversationBufferWindowMemory\n",
    "\n",
    "memory = ConversationBufferWindowMemory(\n",
    "  return_messages=True,\n",
    "  k=4\n",
    ")\n",
    "\n",
    "def add_message(input, output):\n",
    "  memory.save_context({\"input\": input}, {\"output\": output})\n",
    "  \n",
    "add_message(\"HI!\", \"How are you?\")\n",
    "add_message(\"I'm good, how are you?\", \"I'm good too!\")\n",
    "add_message(\"That's great!\", \"Yes it is!\")\n",
    "add_message(\"I'm glad you're doing well\", \"Thank you!\")"
   ]
  },
  {
   "cell_type": "code",
   "execution_count": 4,
   "metadata": {},
   "outputs": [
    {
     "data": {
      "text/plain": [
       "{'history': [HumanMessage(content='HI!'),\n",
       "  AIMessage(content='How are you?'),\n",
       "  HumanMessage(content=\"I'm good, how are you?\"),\n",
       "  AIMessage(content=\"I'm good too!\"),\n",
       "  HumanMessage(content=\"That's great!\"),\n",
       "  AIMessage(content='Yes it is!'),\n",
       "  HumanMessage(content=\"I'm glad you're doing well\"),\n",
       "  AIMessage(content='Thank you!')]}"
      ]
     },
     "execution_count": 4,
     "metadata": {},
     "output_type": "execute_result"
    }
   ],
   "source": [
    "memory.load_memory_variables({})"
   ]
  },
  {
   "cell_type": "code",
   "execution_count": null,
   "metadata": {},
   "outputs": [],
   "source": [
    "from langchain.memory import ConversationSummaryMemory\n",
    "from langchain.chat_models import ChatOpenAI\n",
    "\n",
    "llm = ChatOpenAI(temperature=0.1)\n",
    "\n",
    "memory = ConversationSummaryMemory(llm=llm)\n",
    "\n",
    "\n",
    "def add_message(input, output):\n",
    "    memory.save_context({\"input\": input}, {\"output\": output})\n",
    "\n",
    "\n",
    "def get_history():\n",
    "    return memory.load_memory_variables({})\n",
    "\n",
    "\n",
    "add_message(\"Hi I'm Nicolas, I live in South Korea\", \"Wow that is so cool!\")"
   ]
  },
  {
   "cell_type": "code",
   "execution_count": null,
   "metadata": {},
   "outputs": [],
   "source": [
    "add_message(\"South Kddorea is so pretty\", \"I wish I could go!!!\")"
   ]
  },
  {
   "cell_type": "code",
   "execution_count": null,
   "metadata": {},
   "outputs": [],
   "source": [
    "get_history()"
   ]
  },
  {
   "cell_type": "code",
   "execution_count": null,
   "metadata": {},
   "outputs": [],
   "source": [
    "from langchain.memory import ConversationSummaryBufferMemory\n",
    "from langchain.chat_models import ChatOpenAI\n",
    "\n",
    "llm = ChatOpenAI(temperature=0.1)\n",
    "\n",
    "memory = ConversationSummaryBufferMemory(\n",
    "    llm=llm,\n",
    "    max_token_limit=150,\n",
    "    return_messages=True,\n",
    ")\n",
    "\n",
    "\n",
    "def add_message(input, output):\n",
    "    memory.save_context({\"input\": input}, {\"output\": output})\n",
    "\n",
    "\n",
    "def get_history():\n",
    "    return memory.load_memory_variables({})\n",
    "\n",
    "\n",
    "add_message(\"Hi I'm Nicolas, I live in South Korea\", \"Wow that is so cool!\")"
   ]
  },
  {
   "cell_type": "code",
   "execution_count": null,
   "metadata": {},
   "outputs": [],
   "source": [
    "get_history() \n",
    "# {'history': [HumanMessage(content=\"Hi I'm Nicolas, I live in South Korea\"),\n",
    "# AIMessage(content='Wow that is so cool!')]}"
   ]
  },
  {
   "cell_type": "code",
   "execution_count": null,
   "metadata": {},
   "outputs": [],
   "source": [
    "add_message(\"South Korea is so pretty\", \"I wish I could go!!!\")"
   ]
  },
  {
   "cell_type": "code",
   "execution_count": null,
   "metadata": {},
   "outputs": [],
   "source": [
    "get_history()\n",
    "#{'history': [HumanMessage(content=\"Hi I'm Nicolas, I live in South Korea\"),\n",
    "# AIMessage(content='Wow that is so cool!'),\n",
    "# HumanMessage(content='South Korea is so pretty'),\n",
    "# AIMessage(content='I wish I could go!!!'),\n",
    "# HumanMessage(content='How far is Korea from Argentina?'),\n",
    "# AIMessage(content=\"I don't know! Super far!\")]}"
   ]
  },
  {
   "cell_type": "code",
   "execution_count": null,
   "metadata": {},
   "outputs": [],
   "source": [
    "add_message(\"How far is Brazil from Argentina?\", \"I don't know! Super far!\")"
   ]
  },
  {
   "cell_type": "code",
   "execution_count": null,
   "metadata": {},
   "outputs": [],
   "source": [
    "get_history()\n",
    "  #{'history': [SystemMessage(content='The human introduces themselves as Nicolas and mentions that they live in South Korea. The AI responds by expressing excitement and finding it cool.'),\n",
    "  #HumanMessage(content='South Korea is so pretty'),\n",
    "  #AIMessage(content='I wish I could go!!!'),\n",
    "  #HumanMessage(content='How far is Korea from Argentina?'),\n",
    "  #AIMessage(content=\"I don't know! Super far!\"),\n",
    "  #HumanMessage(content='How far is Brazil from Argentina?'),\n",
    "  #AIMessage(content=\"I don't know! Super far!\"),\n",
    "  #HumanMessage(content='How far is Brazil from Argentina?'),\n",
    "  #AIMessage(content=\"I don't know! Super far!\"),\n",
    "  #HumanMessage(content='How far is Brazil from Argentina?'),\n",
    "  #AIMessage(content=\"I don't know! Super far!\"),\n",
    "  #HumanMessage(content='How far is Brazil from Argentina?'),\n",
    "  #AIMessage(content=\"I don't know! Super far!\")]}"
   ]
  }
 ],
 "metadata": {
  "kernelspec": {
   "display_name": ".venv",
   "language": "python",
   "name": "python3"
  },
  "language_info": {
   "codemirror_mode": {
    "name": "ipython",
    "version": 3
   },
   "file_extension": ".py",
   "mimetype": "text/x-python",
   "name": "python",
   "nbconvert_exporter": "python",
   "pygments_lexer": "ipython3",
   "version": "3.11.6"
  }
 },
 "nbformat": 4,
 "nbformat_minor": 2
}
