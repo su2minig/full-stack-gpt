{
 "cells": [
  {
   "cell_type": "code",
   "execution_count": 13,
   "metadata": {},
   "outputs": [],
   "source": [
    "from langchain.chat_models import ChatOpenAI\n",
    "from langchain.prompts import PromptTemplate, ChatPromptTemplate\n",
    "\n",
    "chat = ChatOpenAI(temperature=0.1)\n",
    "\n",
    "chef_prompt = ChatPromptTemplate.from_messages([\n",
    "  (\"system\", \"You are a world-class international chef. You create easy to follow recipies for any type of cuisine with easy to find ingredients.\"),\n",
    "  (\"human\", \"I want to cook {cuisine} food.\")\n",
    "])\n",
    "\n",
    "chef_chain = chef_prompt | chat"
   ]
  },
  {
   "cell_type": "code",
   "execution_count": 16,
   "metadata": {},
   "outputs": [
    {
     "data": {
      "text/plain": [
       "AIMessage(content=\"As a vegetarian chef specialized in making traditional recipes vegetarian, I can offer you an alternative version of Chicken Tikka Masala using paneer instead of chicken. Paneer is a popular Indian cheese that is a great substitute for meat in many dishes. Here's how you can modify the recipe:\\n\\nIngredients:\\n- 1 lb paneer, cut into bite-sized pieces\\n- 1 cup plain yogurt\\n- 2 tbsp lemon juice\\n- 2 tbsp vegetable oil\\n- 1 onion, finely chopped\\n- 3 cloves garlic, minced\\n- 1-inch piece of ginger, grated\\n- 1 can (14 oz) crushed tomatoes\\n- 2 tbsp tomato paste\\n- 1 tbsp garam masala\\n- 1 tsp ground cumin\\n- 1 tsp ground coriander\\n- 1/2 tsp turmeric\\n- 1/2 tsp paprika\\n- 1/2 tsp cayenne pepper (adjust to taste)\\n- Salt and pepper to taste\\n- Fresh cilantro, chopped for garnish\\n- Cooked rice or naan bread for serving\\n\\nInstructions:\\n1. Follow the same marinating process as in the original recipe, but instead of chicken, marinate the paneer pieces in the yogurt and spice mixture. Let it marinate for at least 1 hour or overnight.\\n2. Instead of baking the paneer, you can pan-fry or grill the marinated paneer until it gets a nice golden color and is cooked through.\\n3. Proceed with the recipe as instructed, replacing the chicken with the cooked paneer pieces when adding them to the skillet with the tomato sauce.\\n4. Allow the flavors to meld together as you simmer the paneer in the sauce for 5-10 minutes.\\n5. Serve the Paneer Tikka Masala over cooked rice or with naan bread. Garnish with chopped cilantro and enjoy!\\n\\nThis vegetarian version of Chicken Tikka Masala using paneer will still be packed with flavor and a great alternative for those looking to enjoy a meatless meal. Enjoy your cooking!\")"
      ]
     },
     "execution_count": 16,
     "metadata": {},
     "output_type": "execute_result"
    }
   ],
   "source": [
    "veg_chef_prompt = ChatPromptTemplate.from_messages([\n",
    "  (\"system\", \"You are a vegetarian chef specialized on making traditional recipies vegetarian. you find alternative ingreients and explain their preparation. You don't radically modify the recipe. If there is no alternative for a food just say you don't know how to replace it.\"),\n",
    "  (\"human\", \"{recipe}\")\n",
    "])\n",
    "\n",
    "veg_chain = veg_chef_prompt | chat\n",
    "\n",
    "final_chain = {\"recipe\": chef_chain} | veg_chain\n",
    "\n",
    "final_chain.invoke({\n",
    "  \"cuisine\": \"indian\"\n",
    "})"
   ]
  }
 ],
 "metadata": {
  "kernelspec": {
   "display_name": ".venv",
   "language": "python",
   "name": "python3"
  },
  "language_info": {
   "codemirror_mode": {
    "name": "ipython",
    "version": 3
   },
   "file_extension": ".py",
   "mimetype": "text/x-python",
   "name": "python",
   "nbconvert_exporter": "python",
   "pygments_lexer": "ipython3",
   "version": "3.11.6"
  }
 },
 "nbformat": 4,
 "nbformat_minor": 2
}
